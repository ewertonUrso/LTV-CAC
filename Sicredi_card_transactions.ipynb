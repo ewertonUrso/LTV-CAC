{
  "nbformat": 4,
  "nbformat_minor": 0,
  "metadata": {
    "colab": {
      "provenance": [],
      "mount_file_id": "1rIT7lqTA0Ypa1WiBjFE9jCjNIm8SM9Tt",
      "authorship_tag": "ABX9TyM/ggu8NtgN18XWRiW06Xpa",
      "include_colab_link": true
    },
    "kernelspec": {
      "name": "python3",
      "display_name": "Python 3"
    },
    "language_info": {
      "name": "python"
    }
  },
  "cells": [
    {
      "cell_type": "markdown",
      "metadata": {
        "id": "view-in-github",
        "colab_type": "text"
      },
      "source": [
        "<a href=\"https://colab.research.google.com/github/ewertonUrso/LTV-CAC/blob/main/Sicredi_card_transactions.ipynb\" target=\"_parent\"><img src=\"https://colab.research.google.com/assets/colab-badge.svg\" alt=\"Open In Colab\"/></a>"
      ]
    },
    {
      "cell_type": "markdown",
      "source": [
        "1. Coleta e organização dos dados"
      ],
      "metadata": {
        "id": "ZOoQ0blJaq4Z"
      }
    },
    {
      "cell_type": "code",
      "execution_count": 228,
      "metadata": {
        "id": "kbxkQLpbN54O"
      },
      "outputs": [],
      "source": [
        "import pandas as pd\n",
        "\n",
        "# 1. Agências Sicredi\n",
        "f = '/content/drive/MyDrive/Sicredi/csv/db_entidade_agencia.csv'\n",
        "agencias = pd.read_csv(f)\n",
        "\n",
        "# 2. Transações em cartões de crédito dos clientes\n",
        "f = '/content/drive/MyDrive/Sicredi/csv/db_cartoes_transacoes.csv'\n",
        "cartoes_transacoes = pd.read_csv(f)\n",
        "\n",
        "# 3. Adicionando as colunas dia, mês e ano da transação\n",
        "def dia_mes(data):\n",
        "  return data[0:2]\n",
        "\n",
        "def mes(data):\n",
        "  return data[3:5]\n",
        "\n",
        "def ano(data):\n",
        "  return data[6:10]\n",
        "\n",
        "cartoes_transacoes['dia_transacao'] = cartoes_transacoes['dat_transacao'].apply(dia_mes)\n",
        "cartoes_transacoes['mes_transacao'] = cartoes_transacoes['dat_transacao'].apply(mes)\n",
        "cartoes_transacoes['ano_transacao'] = cartoes_transacoes['dat_transacao'].apply(ano)\n",
        "cartoes_transacoes['ano_mes_transacao'] = cartoes_transacoes['ano_transacao'] + '-' + cartoes_transacoes['mes_transacao']\n",
        "cartoes_transacoes['dat_transacao'] = cartoes_transacoes['ano_transacao'] + '-' + cartoes_transacoes['mes_transacao'] + '-' + cartoes_transacoes['dia_transacao']\n",
        "cartoes_transacoes['dat_transacao'] = pd.to_datetime(cartoes_transacoes['dat_transacao'])\n",
        "\n",
        "# 3. Removendo transações anteriores ao ano de 2019 e posteriores a 31/dez/2019\n",
        "cartoes_transacoes = cartoes_transacoes[pd.to_datetime(cartoes_transacoes['dat_transacao']) > '2018-12-31']\n",
        "cartoes_transacoes = cartoes_transacoes[pd.to_datetime(cartoes_transacoes['dat_transacao']) < '2020-01-01']\n",
        "cartoes_transacoes = cartoes_transacoes.sort_values('dat_transacao', ascending = True).reset_index(drop = True)\n",
        "\n",
        "# 4. Removendo transações com modalidade crédito ou débito não informada\n",
        "cartoes_transacoes = cartoes_transacoes[cartoes_transacoes['nom_modalidade'] != '0']\n",
        "\n",
        "# 5. Combinando os datasets de agência e de transações em cartão\n",
        "d = cartoes_transacoes.merge(agencias, on = ['cod_cooperativa', 'cod_agencia'])\n",
        "\n",
        "# 6. Selecionando variáveis\n",
        "d = d[[\"num_cpf_cnpj\",\n",
        "       \"cod_conta\",\n",
        "       \"num_plastico\",\n",
        "       \"cod_cooperativa\",\n",
        "       \"des_nome_cooperativa\",\n",
        "       \"cod_agencia\",\n",
        "       \"des_nome_agencia\",\n",
        "       \"nom_cidade_estabelecimento\",\n",
        "       \"dat_transacao\",\n",
        "       \"ano_mes_transacao\",\n",
        "       \"vlr_transacao\",\n",
        "       \"nom_modalidade\"]]\n"
      ]
    },
    {
      "cell_type": "markdown",
      "source": [
        "2. Crescimento do TPV ao longo dos 24 meses entre jan/2019 e dez/2020"
      ],
      "metadata": {
        "id": "PfBgTnVibSSI"
      }
    },
    {
      "cell_type": "code",
      "source": [
        "dados = ['ano_mes_transacao', 'vlr_transacao']\n",
        "\n",
        "tpv = d[dados].groupby('ano_mes_transacao', as_index = False).sum().sort_values('ano_mes_transacao', ascending = True).reset_index(drop = True)\n",
        "\n",
        "tpv.head(12)\n"
      ],
      "metadata": {
        "id": "njMoTay9bWKe"
      },
      "execution_count": null,
      "outputs": []
    },
    {
      "cell_type": "markdown",
      "source": [
        "3. Quais as cooperativas com maior TPV?\n"
      ],
      "metadata": {
        "id": "jsfJBPCGLydv"
      }
    },
    {
      "cell_type": "code",
      "source": [
        "dados = ['des_nome_cooperativa', 'vlr_transacao']\n",
        "\n",
        "tpv = d[dados].groupby('des_nome_cooperativa', as_index = False).sum().sort_values('vlr_transacao', ascending = False).reset_index(drop = True)\n",
        "\n",
        "tpv.head(3)\n"
      ],
      "metadata": {
        "id": "4kn6zxV2LN7X"
      },
      "execution_count": null,
      "outputs": []
    },
    {
      "cell_type": "markdown",
      "source": [
        "4. Quais as agências com maior TPV?"
      ],
      "metadata": {
        "id": "sCJhfia9hz_L"
      }
    },
    {
      "cell_type": "code",
      "source": [
        "dados = ['des_nome_cooperativa', 'des_nome_agencia', 'vlr_transacao']\n",
        "grupos = ['des_nome_cooperativa', 'des_nome_agencia']\n",
        "ordenacao = ['des_nome_cooperativa', 'vlr_transacao']\n",
        "\n",
        "tpv = d[dados].groupby(grupos, as_index = False).sum().sort_values(ordenacao, ascending = False).reset_index(drop = True)\n",
        "\n",
        "tpv.head(13)\n"
      ],
      "metadata": {
        "id": "oDrBQo5nh3y7"
      },
      "execution_count": null,
      "outputs": []
    },
    {
      "cell_type": "markdown",
      "source": [
        "5. Crescimento do TPV das cooperativas\n",
        "ao longo dos 24 meses entre jan/2019 e dez/2020"
      ],
      "metadata": {
        "id": "6VlZnLUmXcX1"
      }
    },
    {
      "cell_type": "code",
      "source": [
        "dados = ['ano_mes_transacao', 'des_nome_cooperativa', 'vlr_transacao']\n",
        "grupos = ['ano_mes_transacao', 'des_nome_cooperativa']\n",
        "ordenacao = ['des_nome_cooperativa', 'ano_mes_transacao']\n",
        "\n",
        "tpv = d[dados].groupby(grupos, as_index = False).sum()\n",
        "tpv = tpv[['des_nome_cooperativa',\n",
        "           'ano_mes_transacao',\n",
        "           'vlr_transacao']].sort_values(ordenacao, ascending = True).reset_index(drop = True)\n",
        "\n",
        "tpv.head(19)\n"
      ],
      "metadata": {
        "id": "SwI7bBtdXgq0"
      },
      "execution_count": null,
      "outputs": []
    },
    {
      "cell_type": "markdown",
      "source": [
        "6. Crescimento do TPV das agências ao longo dos 24 meses entre jan/2019 e dez/2020\n",
        "\n"
      ],
      "metadata": {
        "id": "0ioJm_2TUbrU"
      }
    },
    {
      "cell_type": "code",
      "source": [
        "dados = ['ano_mes_transacao', 'des_nome_agencia', 'vlr_transacao']\n",
        "grupos = ['ano_mes_transacao', 'des_nome_agencia']\n",
        "ordenacao = ['des_nome_agencia', 'ano_mes_transacao']\n",
        "\n",
        "tpv = d[dados].groupby(grupos, as_index = False).sum()\n",
        "tpv = tpv[['des_nome_agencia',\n",
        "           'ano_mes_transacao',\n",
        "           'vlr_transacao']].sort_values(ordenacao, ascending = True).reset_index(drop = True)\n",
        "\n",
        "tpv.head(94)\n"
      ],
      "metadata": {
        "id": "siRdo7WaUgyk"
      },
      "execution_count": null,
      "outputs": []
    },
    {
      "cell_type": "markdown",
      "source": [
        "7. Proporção do TPV entre transações de Crédito e Débito"
      ],
      "metadata": {
        "id": "uCffJCQCYr-v"
      }
    },
    {
      "cell_type": "code",
      "source": [
        "dados = ['nom_modalidade', 'vlr_transacao']\n",
        "grupos = ['nom_modalidade']\n",
        "ordenacao = ['nom_modalidade', 'vlr_transacao']\n",
        "\n",
        "tpv = d[dados].groupby(grupos, as_index = False).sum()\n",
        "\n",
        "tpv.head(2)\n"
      ],
      "metadata": {
        "id": "HpyKaKySY3bd"
      },
      "execution_count": null,
      "outputs": []
    },
    {
      "cell_type": "markdown",
      "source": [
        "8. Crescimento do TPV das modalidades Crédito e Débito\n"
      ],
      "metadata": {
        "id": "1mQSMSjiJbzv"
      }
    },
    {
      "cell_type": "code",
      "source": [
        "dados = ['ano_mes_transacao', 'nom_modalidade', 'vlr_transacao']\n",
        "grupos = ['ano_mes_transacao', 'nom_modalidade']\n",
        "ordenacao = ['ano_mes_transacao', 'vlr_transacao']\n",
        "\n",
        "tpv = d[dados].groupby(grupos, as_index = False).sum().sort_values(ordenacao, ascending = True).reset_index(drop = True)\n",
        "tpv.head(24)\n"
      ],
      "metadata": {
        "id": "PzSC3kW7JgB_"
      },
      "execution_count": null,
      "outputs": []
    },
    {
      "cell_type": "markdown",
      "source": [
        "9. Clientes Ativos"
      ],
      "metadata": {
        "id": "BtxXNjoHL9BI"
      }
    },
    {
      "cell_type": "code",
      "source": [
        "dados = ['ano_mes_transacao', 'num_cpf_cnpj']\n",
        "\n",
        "ativos = d[dados].groupby('ano_mes_transacao', as_index = False).agg('nunique')\n",
        "ativos.head(12)\n"
      ],
      "metadata": {
        "id": "OUDoJHTcMCUO"
      },
      "execution_count": null,
      "outputs": []
    },
    {
      "cell_type": "markdown",
      "source": [
        "10. Clientes Ativos nas diferentes cooperativas"
      ],
      "metadata": {
        "id": "0DKwHGb22Euc"
      }
    },
    {
      "cell_type": "code",
      "source": [
        "dados = ['des_nome_cooperativa', 'ano_mes_transacao', 'num_cpf_cnpj']\n",
        "grupos = ['des_nome_cooperativa', 'ano_mes_transacao']\n",
        "ordenacao = grupos\n",
        "\n",
        "ativos = d[dados].groupby(grupos, as_index = False).agg('nunique').sort_values(ordenacao, ascending = True).reset_index(drop = True)\n",
        "ativos.head(19)\n"
      ],
      "metadata": {
        "id": "B_tjJfvf2JUU"
      },
      "execution_count": null,
      "outputs": []
    },
    {
      "cell_type": "markdown",
      "source": [
        "11. Clientes Ativos nas diferentes agências"
      ],
      "metadata": {
        "id": "s_3TEsfr27-1"
      }
    },
    {
      "cell_type": "code",
      "source": [
        "dados = ['des_nome_cooperativa', 'des_nome_agencia', 'ano_mes_transacao', 'num_cpf_cnpj']\n",
        "grupos = ['des_nome_cooperativa', 'des_nome_agencia', 'ano_mes_transacao']\n",
        "ordenacao = grupos\n",
        "\n",
        "ativos = d[dados].groupby(grupos, as_index = False).agg('nunique').sort_values(ordenacao, ascending = True).reset_index(drop = True)\n",
        "ativos.head(94)\n"
      ],
      "metadata": {
        "id": "v1PSriak2-kM"
      },
      "execution_count": null,
      "outputs": []
    }
  ]
}